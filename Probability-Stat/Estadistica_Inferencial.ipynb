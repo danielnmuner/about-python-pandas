{
  "nbformat": 4,
  "nbformat_minor": 0,
  "metadata": {
    "colab": {
      "provenance": [],
      "collapsed_sections": []
    },
    "kernelspec": {
      "name": "python3",
      "display_name": "Python 3"
    },
    "language_info": {
      "name": "python"
    }
  },
  "cells": [
    {
      "cell_type": "markdown",
      "source": [
        "## Estadistica Inferencial \n",
        "\n",
        "Nos ayuda a determinar `Muestreos`, `Intervalos de confianza`, `Validacion de Hipotesis` y `Evitar Sesgos`. La Estadistica Inferencia consiste en Conclusiones que se obtienen sobre la poblacion de datos. **Estudio** del grado de **fiabilidad** de los resultados extraídos del estudio. La usaremos para entender la distribucion de la informacion. En la creacion de experimentos y modelos predictivos.\n",
        "\n",
        "### Estadisticos Pricipales\n",
        "\n",
        "1. **Experimento** Es un procedimiento que puede repetirce infinitas veces y tiene in conjunto de resultados, conocidos como espacio muestral. \n",
        "\n",
        "  - Aleatorios $\\to$ Tienen mas de un resultado posible. \n",
        "  - Determinista $\\to$ Solo tiene un resultado posible.\n",
        "\n",
        "2. **Muestra** Subconjunto `Representativa no Sesgada/Significativo` que pertenece a una Poblacion.\n",
        "3. **Evento** Cada uno de los posibles resultados de un experimento.\n",
        "4. **Variables** `Cuantitativas` / `Cualitativas` $\\to$ Continuo/Discreto\n",
        "5. **Probabilidad** Que tan posible es que ocurra un evento.\n",
        "  - Probabilidad Condicionada $\\to$ que ocurra un Evento en concecuencia de otro Evento sucedido.\n",
        "\n",
        "### Distribucion Normal\n",
        "\n",
        "Es un modelo de distribucion de datos es simetrica donde **Moda** $≅$ **Mediana**$≅$**Media**. En la vida real hay modelos muy cercanos como lo es `Las calorias ingeridas y peso`, `Presion Sanguinea` y entre otras `Tamaño de los coches producidos por una maquina`.\n",
        "\n",
        "### Introduccion al muestreo y teorema del Limite central.\n",
        "\n",
        "**Muestreo** \n",
        "- Técnica para la seleccion de una muestra $\\cong$ Estadisticamente Significativo. \n",
        "- Se obtiene apartir de una poblacion estadistica.\n",
        "- La seleccion tiene que ser aleatoria y se espera que sus propiedades sean extrapolares a la poblacion.\n",
        "\n",
        "**Tipos de Muestreo**      \n",
        "-  **Aleatorio Simple**: Cada muestra tiene la misma probailidad de se elegida `Loteria/Baloto`\n",
        "- **Sistematico**: Es la selecion al azar en intervalos regulares cada `100` o `1000` muestras es decir condicionado por catidad o tiempo.\n",
        "- **Estratificado**: Es el metodo de seleccion por Segmentos/Atributos `Pais`, `Edad`.\n",
        "- **Teorema del Limite Central**: Una experimento aleatorio con una catidad de eventos aleatorios sufucientemente grades tiende a seguir una distribucion normal. "
      ],
      "metadata": {
        "id": "WGe7j5bFhSh6"
      }
    },
    {
      "cell_type": "code",
      "source": [
        "!pip install requires.io\n",
        "import pandas as pd\n",
        "import numpy as np\n",
        "import random\n",
        "import io"
      ],
      "metadata": {
        "colab": {
          "base_uri": "https://localhost:8080/"
        },
        "id": "ZwWb8AK2uv6m",
        "outputId": "a1b002ef-d9d8-4bf6-809f-6fd24ffd2be8"
      },
      "execution_count": 1,
      "outputs": [
        {
          "output_type": "stream",
          "name": "stdout",
          "text": [
            "Looking in indexes: https://pypi.org/simple, https://us-python.pkg.dev/colab-wheels/public/simple/\n",
            "Collecting requires.io\n",
            "  Downloading requires.io-0.2.6-py2.py3-none-any.whl (10 kB)\n",
            "Requirement already satisfied: requests>=2.0.0 in /usr/local/lib/python3.7/dist-packages (from requires.io) (2.23.0)\n",
            "Requirement already satisfied: idna<3,>=2.5 in /usr/local/lib/python3.7/dist-packages (from requests>=2.0.0->requires.io) (2.10)\n",
            "Requirement already satisfied: certifi>=2017.4.17 in /usr/local/lib/python3.7/dist-packages (from requests>=2.0.0->requires.io) (2022.6.15)\n",
            "Requirement already satisfied: chardet<4,>=3.0.2 in /usr/local/lib/python3.7/dist-packages (from requests>=2.0.0->requires.io) (3.0.4)\n",
            "Requirement already satisfied: urllib3!=1.25.0,!=1.25.1,<1.26,>=1.21.1 in /usr/local/lib/python3.7/dist-packages (from requests>=2.0.0->requires.io) (1.24.3)\n",
            "Installing collected packages: requires.io\n",
            "Successfully installed requires.io-0.2.6\n"
          ]
        }
      ]
    },
    {
      "cell_type": "code",
      "source": [
        "from google.colab import drive\n",
        "drive.mount('/content/drive')\n",
        "dataV1 = '/content/drive/My Drive/Data Science Platzi/Data0.1.csv'\n",
        "dataV1 = pd.read_csv(dataV1)\n",
        "economic_data = dataV1.copy()"
      ],
      "metadata": {
        "colab": {
          "base_uri": "https://localhost:8080/"
        },
        "id": "M2WbCPzBvADl",
        "outputId": "c6645fe3-dc83-4633-c3c0-d69d29925d7e"
      },
      "execution_count": 2,
      "outputs": [
        {
          "output_type": "stream",
          "name": "stdout",
          "text": [
            "Mounted at /content/drive\n"
          ]
        }
      ]
    },
    {
      "cell_type": "code",
      "source": [
        "#Muestreo Simple Aleatorio\n",
        "\n",
        "#Por numero de Individuos\n",
        "m_aleatorio_simple_n = economic_data.sample(n=8) \n",
        "#Por porcentaje de muestreo del la Poblacion aleatoria.\n",
        "m_aleatorio_simple_frac = economic_data.sample(frac= .25)\n",
        "m_aleatorio_simple_frac.head(5)"
      ],
      "metadata": {
        "id": "cg70KPeZ3j7I",
        "colab": {
          "base_uri": "https://localhost:8080/",
          "height": 206
        },
        "outputId": "fd91de4a-009e-47fe-b390-352cc0bf4ee3"
      },
      "execution_count": 3,
      "outputs": [
        {
          "output_type": "execute_result",
          "data": {
            "text/plain": [
              "      id                  geo_point_2d  \\\n",
              "66    66  19.4331350004,-99.1382989213   \n",
              "48    48  19.4454876095,-99.1454023878   \n",
              "134  134  19.4297026585,-99.1459903503   \n",
              "208  208   19.423857491,-99.1225572301   \n",
              "78    78    19.4430578017,-99.13614342   \n",
              "\n",
              "                                             geo_shape   clave_cat  \\\n",
              "66   {\"type\": \"MultiPoint\", \"coordinates\": [[-99.13...  001_021_14   \n",
              "48   {\"type\": \"Polygon\", \"coordinates\": [[[-99.1457...  003_045_01   \n",
              "134  {\"type\": \"Polygon\", \"coordinates\": [[[-99.1462...  002_059_01   \n",
              "208  {\"type\": \"MultiPoint\", \"coordinates\": [[-99.12...  323_108_11   \n",
              "78   {\"type\": \"Polygon\", \"coordinates\": [[[-99.1368...  004_107_01   \n",
              "\n",
              "              delegacion perimetro     tipo                      nom_id  \n",
              "66             Cuautémoc         A    Hotel                     Coliseo  \n",
              "48            Cuauhtémoc         B  Mercado  Martínez de la Torre Anexo  \n",
              "134           Cuauhtémoc         B  Mercado           Floreria San Juan  \n",
              "208  Venustiano Carranza         B    Hotel                      Juárez  \n",
              "78            Cuauhtémoc         B  Mercado                La Lagunilla  "
            ],
            "text/html": [
              "\n",
              "  <div id=\"df-51e0b287-6952-4650-a825-a02cfadce6a9\">\n",
              "    <div class=\"colab-df-container\">\n",
              "      <div>\n",
              "<style scoped>\n",
              "    .dataframe tbody tr th:only-of-type {\n",
              "        vertical-align: middle;\n",
              "    }\n",
              "\n",
              "    .dataframe tbody tr th {\n",
              "        vertical-align: top;\n",
              "    }\n",
              "\n",
              "    .dataframe thead th {\n",
              "        text-align: right;\n",
              "    }\n",
              "</style>\n",
              "<table border=\"1\" class=\"dataframe\">\n",
              "  <thead>\n",
              "    <tr style=\"text-align: right;\">\n",
              "      <th></th>\n",
              "      <th>id</th>\n",
              "      <th>geo_point_2d</th>\n",
              "      <th>geo_shape</th>\n",
              "      <th>clave_cat</th>\n",
              "      <th>delegacion</th>\n",
              "      <th>perimetro</th>\n",
              "      <th>tipo</th>\n",
              "      <th>nom_id</th>\n",
              "    </tr>\n",
              "  </thead>\n",
              "  <tbody>\n",
              "    <tr>\n",
              "      <th>66</th>\n",
              "      <td>66</td>\n",
              "      <td>19.4331350004,-99.1382989213</td>\n",
              "      <td>{\"type\": \"MultiPoint\", \"coordinates\": [[-99.13...</td>\n",
              "      <td>001_021_14</td>\n",
              "      <td>Cuautémoc</td>\n",
              "      <td>A</td>\n",
              "      <td>Hotel</td>\n",
              "      <td>Coliseo</td>\n",
              "    </tr>\n",
              "    <tr>\n",
              "      <th>48</th>\n",
              "      <td>48</td>\n",
              "      <td>19.4454876095,-99.1454023878</td>\n",
              "      <td>{\"type\": \"Polygon\", \"coordinates\": [[[-99.1457...</td>\n",
              "      <td>003_045_01</td>\n",
              "      <td>Cuauhtémoc</td>\n",
              "      <td>B</td>\n",
              "      <td>Mercado</td>\n",
              "      <td>Martínez de la Torre Anexo</td>\n",
              "    </tr>\n",
              "    <tr>\n",
              "      <th>134</th>\n",
              "      <td>134</td>\n",
              "      <td>19.4297026585,-99.1459903503</td>\n",
              "      <td>{\"type\": \"Polygon\", \"coordinates\": [[[-99.1462...</td>\n",
              "      <td>002_059_01</td>\n",
              "      <td>Cuauhtémoc</td>\n",
              "      <td>B</td>\n",
              "      <td>Mercado</td>\n",
              "      <td>Floreria San Juan</td>\n",
              "    </tr>\n",
              "    <tr>\n",
              "      <th>208</th>\n",
              "      <td>208</td>\n",
              "      <td>19.423857491,-99.1225572301</td>\n",
              "      <td>{\"type\": \"MultiPoint\", \"coordinates\": [[-99.12...</td>\n",
              "      <td>323_108_11</td>\n",
              "      <td>Venustiano Carranza</td>\n",
              "      <td>B</td>\n",
              "      <td>Hotel</td>\n",
              "      <td>Juárez</td>\n",
              "    </tr>\n",
              "    <tr>\n",
              "      <th>78</th>\n",
              "      <td>78</td>\n",
              "      <td>19.4430578017,-99.13614342</td>\n",
              "      <td>{\"type\": \"Polygon\", \"coordinates\": [[[-99.1368...</td>\n",
              "      <td>004_107_01</td>\n",
              "      <td>Cuauhtémoc</td>\n",
              "      <td>B</td>\n",
              "      <td>Mercado</td>\n",
              "      <td>La Lagunilla</td>\n",
              "    </tr>\n",
              "  </tbody>\n",
              "</table>\n",
              "</div>\n",
              "      <button class=\"colab-df-convert\" onclick=\"convertToInteractive('df-51e0b287-6952-4650-a825-a02cfadce6a9')\"\n",
              "              title=\"Convert this dataframe to an interactive table.\"\n",
              "              style=\"display:none;\">\n",
              "        \n",
              "  <svg xmlns=\"http://www.w3.org/2000/svg\" height=\"24px\"viewBox=\"0 0 24 24\"\n",
              "       width=\"24px\">\n",
              "    <path d=\"M0 0h24v24H0V0z\" fill=\"none\"/>\n",
              "    <path d=\"M18.56 5.44l.94 2.06.94-2.06 2.06-.94-2.06-.94-.94-2.06-.94 2.06-2.06.94zm-11 1L8.5 8.5l.94-2.06 2.06-.94-2.06-.94L8.5 2.5l-.94 2.06-2.06.94zm10 10l.94 2.06.94-2.06 2.06-.94-2.06-.94-.94-2.06-.94 2.06-2.06.94z\"/><path d=\"M17.41 7.96l-1.37-1.37c-.4-.4-.92-.59-1.43-.59-.52 0-1.04.2-1.43.59L10.3 9.45l-7.72 7.72c-.78.78-.78 2.05 0 2.83L4 21.41c.39.39.9.59 1.41.59.51 0 1.02-.2 1.41-.59l7.78-7.78 2.81-2.81c.8-.78.8-2.07 0-2.86zM5.41 20L4 18.59l7.72-7.72 1.47 1.35L5.41 20z\"/>\n",
              "  </svg>\n",
              "      </button>\n",
              "      \n",
              "  <style>\n",
              "    .colab-df-container {\n",
              "      display:flex;\n",
              "      flex-wrap:wrap;\n",
              "      gap: 12px;\n",
              "    }\n",
              "\n",
              "    .colab-df-convert {\n",
              "      background-color: #E8F0FE;\n",
              "      border: none;\n",
              "      border-radius: 50%;\n",
              "      cursor: pointer;\n",
              "      display: none;\n",
              "      fill: #1967D2;\n",
              "      height: 32px;\n",
              "      padding: 0 0 0 0;\n",
              "      width: 32px;\n",
              "    }\n",
              "\n",
              "    .colab-df-convert:hover {\n",
              "      background-color: #E2EBFA;\n",
              "      box-shadow: 0px 1px 2px rgba(60, 64, 67, 0.3), 0px 1px 3px 1px rgba(60, 64, 67, 0.15);\n",
              "      fill: #174EA6;\n",
              "    }\n",
              "\n",
              "    [theme=dark] .colab-df-convert {\n",
              "      background-color: #3B4455;\n",
              "      fill: #D2E3FC;\n",
              "    }\n",
              "\n",
              "    [theme=dark] .colab-df-convert:hover {\n",
              "      background-color: #434B5C;\n",
              "      box-shadow: 0px 1px 3px 1px rgba(0, 0, 0, 0.15);\n",
              "      filter: drop-shadow(0px 1px 2px rgba(0, 0, 0, 0.3));\n",
              "      fill: #FFFFFF;\n",
              "    }\n",
              "  </style>\n",
              "\n",
              "      <script>\n",
              "        const buttonEl =\n",
              "          document.querySelector('#df-51e0b287-6952-4650-a825-a02cfadce6a9 button.colab-df-convert');\n",
              "        buttonEl.style.display =\n",
              "          google.colab.kernel.accessAllowed ? 'block' : 'none';\n",
              "\n",
              "        async function convertToInteractive(key) {\n",
              "          const element = document.querySelector('#df-51e0b287-6952-4650-a825-a02cfadce6a9');\n",
              "          const dataTable =\n",
              "            await google.colab.kernel.invokeFunction('convertToInteractive',\n",
              "                                                     [key], {});\n",
              "          if (!dataTable) return;\n",
              "\n",
              "          const docLinkHtml = 'Like what you see? Visit the ' +\n",
              "            '<a target=\"_blank\" href=https://colab.research.google.com/notebooks/data_table.ipynb>data table notebook</a>'\n",
              "            + ' to learn more about interactive tables.';\n",
              "          element.innerHTML = '';\n",
              "          dataTable['output_type'] = 'display_data';\n",
              "          await google.colab.output.renderOutput(dataTable, element);\n",
              "          const docLink = document.createElement('div');\n",
              "          docLink.innerHTML = docLinkHtml;\n",
              "          element.appendChild(docLink);\n",
              "        }\n",
              "      </script>\n",
              "    </div>\n",
              "  </div>\n",
              "  "
            ]
          },
          "metadata": {},
          "execution_count": 3
        }
      ]
    },
    {
      "cell_type": "code",
      "source": [
        "#Muestro Sistematico\n",
        "\n",
        "#Steps:Intervalos regulares. Es decir condiciones por un atributo dado como Cantidad o Tiempo. \n",
        "def systematic_sampling(economic_data,step):\n",
        "#Indexes es un Array con intervalos definidos por el usuario.\n",
        "  indexes = np.arange(0,len(economic_data),step=step)\n",
        "#Luego de creado el Array filtramos el data_set con .iloc[Array]\n",
        "  systematic_sample = economic_data.iloc[indexes]\n",
        "  return systematic_sample\n",
        "\n",
        "systematic_sample = systematic_sampling(economic_data,3)\n",
        "systematic_sample"
      ],
      "metadata": {
        "colab": {
          "base_uri": "https://localhost:8080/",
          "height": 423
        },
        "id": "zz9Ceu0Q32we",
        "outputId": "d3ea1da0-aeed-4716-db96-3ef2d3999856"
      },
      "execution_count": 4,
      "outputs": [
        {
          "output_type": "execute_result",
          "data": {
            "text/plain": [
              "      id                  geo_point_2d  \\\n",
              "0      0   19.424781053,-99.1327537959   \n",
              "3      3      19.42489472,-99.12073393   \n",
              "6      6      19.43553422,-99.12324801   \n",
              "9      9  19.4407152937,-99.1498060057   \n",
              "12    12      19.43990186,-99.14813347   \n",
              "..   ...                           ...   \n",
              "216  216  19.4247697438,-99.1249707246   \n",
              "219  219  19.4234096295,-99.1438351156   \n",
              "222  222   19.4397905042,-99.134628735   \n",
              "225  225      19.43094655,-99.12455418   \n",
              "228  228  19.4406567734,-99.1394531646   \n",
              "\n",
              "                                             geo_shape   clave_cat  \\\n",
              "0    {\"type\": \"Polygon\", \"coordinates\": [[[-99.1332...  307_130_11   \n",
              "3    {\"type\": \"MultiPoint\", \"coordinates\": [[-99.12...  323_102_06   \n",
              "6    {\"type\": \"MultiPoint\", \"coordinates\": [[-99.12...  318_116_11   \n",
              "9    {\"type\": \"MultiPoint\", \"coordinates\": [[-99.14...  012_146_22   \n",
              "12   {\"type\": \"MultiPoint\", \"coordinates\": [[-99.14...  003_079_16   \n",
              "..                                                 ...         ...   \n",
              "216  {\"type\": \"Polygon\", \"coordinates\": [[[-99.1250...  323_118_37   \n",
              "219  {\"type\": \"MultiPoint\", \"coordinates\": [[-99.14...  002_118_03   \n",
              "222  {\"type\": \"MultiPoint\", \"coordinates\": [[-99.13...  004_063_10   \n",
              "225  {\"type\": \"MultiPoint\", \"coordinates\": [[-99.12...  323_027_04   \n",
              "228  {\"type\": \"MultiPoint\", \"coordinates\": [[-99.13...  004_069_01   \n",
              "\n",
              "              delegacion perimetro     tipo                  nom_id  \n",
              "0             Cuauhtémoc         B  Mercado             Pino Suárez  \n",
              "3    Venustiano Carranza         B    Hotel                Balbuena  \n",
              "6    Venustiano Carranza         B    Hotel    San Antonio Tomatlan  \n",
              "9              Cuautémoc         B    Hotel                 Detroit  \n",
              "12             Cuautémoc         B    Hotel                  La Paz  \n",
              "..                   ...       ...      ...                     ...  \n",
              "216  Venustiano Carranza         B  Mercado  Lamininas de La Merced  \n",
              "219            Cuautémoc         B    Hotel          Prado Floresta  \n",
              "222            Cuautémoc         A    Hotel                  Ladero  \n",
              "225  Venustiano Carranza         B    Hotel           Gran Veracruz  \n",
              "228            Cuautémoc         B    Museo        Tequila y Mescal  \n",
              "\n",
              "[77 rows x 8 columns]"
            ],
            "text/html": [
              "\n",
              "  <div id=\"df-8c35554b-e335-4280-80f0-dde09c8557a4\">\n",
              "    <div class=\"colab-df-container\">\n",
              "      <div>\n",
              "<style scoped>\n",
              "    .dataframe tbody tr th:only-of-type {\n",
              "        vertical-align: middle;\n",
              "    }\n",
              "\n",
              "    .dataframe tbody tr th {\n",
              "        vertical-align: top;\n",
              "    }\n",
              "\n",
              "    .dataframe thead th {\n",
              "        text-align: right;\n",
              "    }\n",
              "</style>\n",
              "<table border=\"1\" class=\"dataframe\">\n",
              "  <thead>\n",
              "    <tr style=\"text-align: right;\">\n",
              "      <th></th>\n",
              "      <th>id</th>\n",
              "      <th>geo_point_2d</th>\n",
              "      <th>geo_shape</th>\n",
              "      <th>clave_cat</th>\n",
              "      <th>delegacion</th>\n",
              "      <th>perimetro</th>\n",
              "      <th>tipo</th>\n",
              "      <th>nom_id</th>\n",
              "    </tr>\n",
              "  </thead>\n",
              "  <tbody>\n",
              "    <tr>\n",
              "      <th>0</th>\n",
              "      <td>0</td>\n",
              "      <td>19.424781053,-99.1327537959</td>\n",
              "      <td>{\"type\": \"Polygon\", \"coordinates\": [[[-99.1332...</td>\n",
              "      <td>307_130_11</td>\n",
              "      <td>Cuauhtémoc</td>\n",
              "      <td>B</td>\n",
              "      <td>Mercado</td>\n",
              "      <td>Pino Suárez</td>\n",
              "    </tr>\n",
              "    <tr>\n",
              "      <th>3</th>\n",
              "      <td>3</td>\n",
              "      <td>19.42489472,-99.12073393</td>\n",
              "      <td>{\"type\": \"MultiPoint\", \"coordinates\": [[-99.12...</td>\n",
              "      <td>323_102_06</td>\n",
              "      <td>Venustiano Carranza</td>\n",
              "      <td>B</td>\n",
              "      <td>Hotel</td>\n",
              "      <td>Balbuena</td>\n",
              "    </tr>\n",
              "    <tr>\n",
              "      <th>6</th>\n",
              "      <td>6</td>\n",
              "      <td>19.43553422,-99.12324801</td>\n",
              "      <td>{\"type\": \"MultiPoint\", \"coordinates\": [[-99.12...</td>\n",
              "      <td>318_116_11</td>\n",
              "      <td>Venustiano Carranza</td>\n",
              "      <td>B</td>\n",
              "      <td>Hotel</td>\n",
              "      <td>San Antonio Tomatlan</td>\n",
              "    </tr>\n",
              "    <tr>\n",
              "      <th>9</th>\n",
              "      <td>9</td>\n",
              "      <td>19.4407152937,-99.1498060057</td>\n",
              "      <td>{\"type\": \"MultiPoint\", \"coordinates\": [[-99.14...</td>\n",
              "      <td>012_146_22</td>\n",
              "      <td>Cuautémoc</td>\n",
              "      <td>B</td>\n",
              "      <td>Hotel</td>\n",
              "      <td>Detroit</td>\n",
              "    </tr>\n",
              "    <tr>\n",
              "      <th>12</th>\n",
              "      <td>12</td>\n",
              "      <td>19.43990186,-99.14813347</td>\n",
              "      <td>{\"type\": \"MultiPoint\", \"coordinates\": [[-99.14...</td>\n",
              "      <td>003_079_16</td>\n",
              "      <td>Cuautémoc</td>\n",
              "      <td>B</td>\n",
              "      <td>Hotel</td>\n",
              "      <td>La Paz</td>\n",
              "    </tr>\n",
              "    <tr>\n",
              "      <th>...</th>\n",
              "      <td>...</td>\n",
              "      <td>...</td>\n",
              "      <td>...</td>\n",
              "      <td>...</td>\n",
              "      <td>...</td>\n",
              "      <td>...</td>\n",
              "      <td>...</td>\n",
              "      <td>...</td>\n",
              "    </tr>\n",
              "    <tr>\n",
              "      <th>216</th>\n",
              "      <td>216</td>\n",
              "      <td>19.4247697438,-99.1249707246</td>\n",
              "      <td>{\"type\": \"Polygon\", \"coordinates\": [[[-99.1250...</td>\n",
              "      <td>323_118_37</td>\n",
              "      <td>Venustiano Carranza</td>\n",
              "      <td>B</td>\n",
              "      <td>Mercado</td>\n",
              "      <td>Lamininas de La Merced</td>\n",
              "    </tr>\n",
              "    <tr>\n",
              "      <th>219</th>\n",
              "      <td>219</td>\n",
              "      <td>19.4234096295,-99.1438351156</td>\n",
              "      <td>{\"type\": \"MultiPoint\", \"coordinates\": [[-99.14...</td>\n",
              "      <td>002_118_03</td>\n",
              "      <td>Cuautémoc</td>\n",
              "      <td>B</td>\n",
              "      <td>Hotel</td>\n",
              "      <td>Prado Floresta</td>\n",
              "    </tr>\n",
              "    <tr>\n",
              "      <th>222</th>\n",
              "      <td>222</td>\n",
              "      <td>19.4397905042,-99.134628735</td>\n",
              "      <td>{\"type\": \"MultiPoint\", \"coordinates\": [[-99.13...</td>\n",
              "      <td>004_063_10</td>\n",
              "      <td>Cuautémoc</td>\n",
              "      <td>A</td>\n",
              "      <td>Hotel</td>\n",
              "      <td>Ladero</td>\n",
              "    </tr>\n",
              "    <tr>\n",
              "      <th>225</th>\n",
              "      <td>225</td>\n",
              "      <td>19.43094655,-99.12455418</td>\n",
              "      <td>{\"type\": \"MultiPoint\", \"coordinates\": [[-99.12...</td>\n",
              "      <td>323_027_04</td>\n",
              "      <td>Venustiano Carranza</td>\n",
              "      <td>B</td>\n",
              "      <td>Hotel</td>\n",
              "      <td>Gran Veracruz</td>\n",
              "    </tr>\n",
              "    <tr>\n",
              "      <th>228</th>\n",
              "      <td>228</td>\n",
              "      <td>19.4406567734,-99.1394531646</td>\n",
              "      <td>{\"type\": \"MultiPoint\", \"coordinates\": [[-99.13...</td>\n",
              "      <td>004_069_01</td>\n",
              "      <td>Cuautémoc</td>\n",
              "      <td>B</td>\n",
              "      <td>Museo</td>\n",
              "      <td>Tequila y Mescal</td>\n",
              "    </tr>\n",
              "  </tbody>\n",
              "</table>\n",
              "<p>77 rows × 8 columns</p>\n",
              "</div>\n",
              "      <button class=\"colab-df-convert\" onclick=\"convertToInteractive('df-8c35554b-e335-4280-80f0-dde09c8557a4')\"\n",
              "              title=\"Convert this dataframe to an interactive table.\"\n",
              "              style=\"display:none;\">\n",
              "        \n",
              "  <svg xmlns=\"http://www.w3.org/2000/svg\" height=\"24px\"viewBox=\"0 0 24 24\"\n",
              "       width=\"24px\">\n",
              "    <path d=\"M0 0h24v24H0V0z\" fill=\"none\"/>\n",
              "    <path d=\"M18.56 5.44l.94 2.06.94-2.06 2.06-.94-2.06-.94-.94-2.06-.94 2.06-2.06.94zm-11 1L8.5 8.5l.94-2.06 2.06-.94-2.06-.94L8.5 2.5l-.94 2.06-2.06.94zm10 10l.94 2.06.94-2.06 2.06-.94-2.06-.94-.94-2.06-.94 2.06-2.06.94z\"/><path d=\"M17.41 7.96l-1.37-1.37c-.4-.4-.92-.59-1.43-.59-.52 0-1.04.2-1.43.59L10.3 9.45l-7.72 7.72c-.78.78-.78 2.05 0 2.83L4 21.41c.39.39.9.59 1.41.59.51 0 1.02-.2 1.41-.59l7.78-7.78 2.81-2.81c.8-.78.8-2.07 0-2.86zM5.41 20L4 18.59l7.72-7.72 1.47 1.35L5.41 20z\"/>\n",
              "  </svg>\n",
              "      </button>\n",
              "      \n",
              "  <style>\n",
              "    .colab-df-container {\n",
              "      display:flex;\n",
              "      flex-wrap:wrap;\n",
              "      gap: 12px;\n",
              "    }\n",
              "\n",
              "    .colab-df-convert {\n",
              "      background-color: #E8F0FE;\n",
              "      border: none;\n",
              "      border-radius: 50%;\n",
              "      cursor: pointer;\n",
              "      display: none;\n",
              "      fill: #1967D2;\n",
              "      height: 32px;\n",
              "      padding: 0 0 0 0;\n",
              "      width: 32px;\n",
              "    }\n",
              "\n",
              "    .colab-df-convert:hover {\n",
              "      background-color: #E2EBFA;\n",
              "      box-shadow: 0px 1px 2px rgba(60, 64, 67, 0.3), 0px 1px 3px 1px rgba(60, 64, 67, 0.15);\n",
              "      fill: #174EA6;\n",
              "    }\n",
              "\n",
              "    [theme=dark] .colab-df-convert {\n",
              "      background-color: #3B4455;\n",
              "      fill: #D2E3FC;\n",
              "    }\n",
              "\n",
              "    [theme=dark] .colab-df-convert:hover {\n",
              "      background-color: #434B5C;\n",
              "      box-shadow: 0px 1px 3px 1px rgba(0, 0, 0, 0.15);\n",
              "      filter: drop-shadow(0px 1px 2px rgba(0, 0, 0, 0.3));\n",
              "      fill: #FFFFFF;\n",
              "    }\n",
              "  </style>\n",
              "\n",
              "      <script>\n",
              "        const buttonEl =\n",
              "          document.querySelector('#df-8c35554b-e335-4280-80f0-dde09c8557a4 button.colab-df-convert');\n",
              "        buttonEl.style.display =\n",
              "          google.colab.kernel.accessAllowed ? 'block' : 'none';\n",
              "\n",
              "        async function convertToInteractive(key) {\n",
              "          const element = document.querySelector('#df-8c35554b-e335-4280-80f0-dde09c8557a4');\n",
              "          const dataTable =\n",
              "            await google.colab.kernel.invokeFunction('convertToInteractive',\n",
              "                                                     [key], {});\n",
              "          if (!dataTable) return;\n",
              "\n",
              "          const docLinkHtml = 'Like what you see? Visit the ' +\n",
              "            '<a target=\"_blank\" href=https://colab.research.google.com/notebooks/data_table.ipynb>data table notebook</a>'\n",
              "            + ' to learn more about interactive tables.';\n",
              "          element.innerHTML = '';\n",
              "          dataTable['output_type'] = 'display_data';\n",
              "          await google.colab.output.renderOutput(dataTable, element);\n",
              "          const docLink = document.createElement('div');\n",
              "          docLink.innerHTML = docLinkHtml;\n",
              "          element.appendChild(docLink);\n",
              "        }\n",
              "      </script>\n",
              "    </div>\n",
              "  </div>\n",
              "  "
            ]
          },
          "metadata": {},
          "execution_count": 4
        }
      ]
    },
    {
      "cell_type": "markdown",
      "source": [
        "# Muestreo Estratificado\n",
        "Es el metodo de seleccion por Segmentos/Atributos Pais, Edad.\n",
        "\n",
        "Al estudiar los segmentos de una poblacion y realizar muestreos aleatorios es importante hacerlo de forma estratificada. Si un segmento X tiene una cantidad de datos muy pequeña en comparacion con la poblacion. El realizar una muestro simple analizaría toda la poblacion y podria descartar ese segmento X. Al hacerlo de forma estratificada nunca se descataran los datos. A veces usamos `random_state=42` en los muestreos ya asegura el uso de los datos aleatorios obtenidos la primera vez.\n",
        "\n",
        "**Pasos a Seguir**\n",
        "\n",
        "1. Separa los datos por categorías `valores estratificados`.\n",
        "2. Define las categorías que quieres en tú muestro y su proporción.\n",
        "3. Toma tantos datos como necesites de cada categoría para llegar a la proporción deseada.\n",
        "4. Junta esas muestras de cada categoría para tu muestreo final."
      ],
      "metadata": {
        "id": "UAE8nhmM6PAA"
      }
    },
    {
      "cell_type": "code",
      "source": [
        "#Verificamos cual es la proporcion actual de los datos.\n",
        "economic_data['estratificado'] = economic_data['delegacion'] + \",\" + economic_data['tipo']\n",
        "(economic_data['estratificado'].value_counts() / len(economic_data)).sort_values(ascending=False)"
      ],
      "metadata": {
        "colab": {
          "base_uri": "https://localhost:8080/"
        },
        "id": "OdW7vNUSQbrO",
        "outputId": "652fb875-4925-4dfe-9e13-b45ad8e860c4"
      },
      "execution_count": 5,
      "outputs": [
        {
          "output_type": "execute_result",
          "data": {
            "text/plain": [
              "Cuautémoc,Hotel                0.643478\n",
              "Cuautémoc,Museo                0.156522\n",
              "Venustiano Carranza,Hotel      0.078261\n",
              "Cuauhtémoc,Mercado             0.073913\n",
              "Venustiano Carranza,Mercado    0.047826\n",
              "Name: estratificado, dtype: float64"
            ]
          },
          "metadata": {},
          "execution_count": 5
        }
      ]
    },
    {
      "cell_type": "markdown",
      "source": [
        "### Se solicita que nuestros muestreos tengan las siguientes porporciones.\n",
        "1. Hoteles en Cuauhtémoc **0.5** o **50%**\n",
        "2. Museos en Cuauhtémoc **0.2** o **20%**\n",
        "3. Hoteles en Venustiano Carranza **0.1** o **10%**\n",
        "4. Mercados en Cuauhtémoc **0.1** o **10%**\n",
        "5. Venustiano Carranza, Mercado **0.1** o **10%** \n",
        "\n",
        "Total **100%**\n",
        "\n",
        "Para crear dicha proporción a partir de los datos originales se utiliza la siguiente **función** que encuentra el número de muestras necesario de cada categoría **Paso 3**, hace un sampleo simple dentro de dicha categoria y luego concatena esas muestras **paso 4**\n",
        "\n"
      ],
      "metadata": {
        "id": "e6Ozy3hk8ApQ"
      }
    },
    {
      "cell_type": "code",
      "source": [
        "#Random_State = None Para indicar que el muestro ya no es aleatorio. \n",
        "def data_estratificada(economic_data,cols_estratificadas,values_estratificados,prop_estratificadas, random_state=None):\n",
        "  \n",
        "  #Creamos un dataframe unicamente con las columnas de economic_data\n",
        "  df_estratificacion = pd.DataFrame(columns= economic_data.columns)\n",
        "\n",
        "  #Contador\n",
        "  init_position = - 1\n",
        "\n",
        "  #Loop Start\n",
        "  #Iteración sobre el Array: ['Cuautémoc,Hotel', 'Cuautémoc,Museo', 'Venustiano Carranza,Hotel', 'Cuauhtémoc,Mercado','Venustiano Carranza,Mercado'] es decir 5 Iteraciónes\n",
        "  for i in range(len(values_estratificados)):\n",
        "    #Iteración #1\n",
        "    init_position +=1\n",
        "\n",
        "    #No se cumple sino hasta la 5 iteración\n",
        "    if init_position == len(values_estratificados) - 1:\n",
        "      ratio_len = len(economic_data) - len(df_estratificacion)\n",
        "\n",
        "    \n",
        "    else:\n",
        "      ratio_len =  int(len(economic_data) * prop_estratificadas[i])\n",
        "    \n",
        "    df_filtrado = economic_data[economic_data[cols_estratificadas] == values_estratificados[i]]\n",
        "    df_temp = df_filtrado.sample(replace=True, n=ratio_len, random_state=random_state)\n",
        "\n",
        "    df_estratificacion = pd.concat([df_estratificacion, df_temp])\n",
        "  #Loop End\n",
        "  \n",
        "  return df_estratificacion"
      ],
      "metadata": {
        "id": "O0A7lr1r-Js0"
      },
      "execution_count": 26,
      "outputs": []
    },
    {
      "cell_type": "code",
      "source": [
        "#Inicializamos los argumentos que recibe la funcion. Asi como la proporcion solicitada.\n",
        "valores_estrat = ['Cuautémoc,Hotel', 'Cuautémoc,Museo', 'Venustiano Carranza,Hotel', 'Cuauhtémoc,Mercado','Venustiano Carranza,Mercado']\n",
        "prop_estrat = [0.5, 0.2, 0.1, 0.1, 0.1]\n",
        "df_estratificacion = data_estratificada(economic_data, 'estratificado', valores_estrat, prop_estrat, random_state=42)\n",
        "ratio_len = int(len(economic_data) * 0.5)\n",
        "economic_data[economic_data['estratificado'] == 'Cuautémoc,Hotel'].sample(replace=True,n=ratio_len, random_state=42)"
      ],
      "metadata": {
        "colab": {
          "base_uri": "https://localhost:8080/",
          "height": 423
        },
        "id": "CqREvkLAAWP8",
        "outputId": "dba185f3-d76a-4cd7-d8a7-fd7a03e084a7"
      },
      "execution_count": 24,
      "outputs": [
        {
          "output_type": "execute_result",
          "data": {
            "text/plain": [
              "      id                  geo_point_2d  \\\n",
              "164  164  19.4388741511,-99.1413308257   \n",
              "142  142  19.4263681354,-99.1327278126   \n",
              "27    27  19.4348360773,-99.1463945583   \n",
              "168  168   19.4349726565,-99.147766133   \n",
              "113  113      19.43374405,-99.13550135   \n",
              "..   ...                           ...   \n",
              "66    66  19.4331350004,-99.1382989213   \n",
              "193  193  19.4269448376,-99.1305051483   \n",
              "99    99  19.4438918423,-99.1402516182   \n",
              "145  145  19.4340221684,-99.1358187396   \n",
              "83    83  19.4342251093,-99.1449434443   \n",
              "\n",
              "                                             geo_shape   clave_cat delegacion  \\\n",
              "164  {\"type\": \"MultiPoint\", \"coordinates\": [[-99.14...  003_113_03  Cuautémoc   \n",
              "142  {\"type\": \"MultiPoint\", \"coordinates\": [[-99.13...  006_127_14  Cuautémoc   \n",
              "27   {\"type\": \"MultiPoint\", \"coordinates\": [[-99.14...  002_016_01  Cuautémoc   \n",
              "168  {\"type\": \"MultiPoint\", \"coordinates\": [[-99.14...  002_014_23  Cuautémoc   \n",
              "113  {\"type\": \"MultiPoint\", \"coordinates\": [[-99.13...  001_012_13  Cuautémoc   \n",
              "..                                                 ...         ...        ...   \n",
              "66   {\"type\": \"MultiPoint\", \"coordinates\": [[-99.13...  001_021_14  Cuautémoc   \n",
              "193  {\"type\": \"MultiPoint\", \"coordinates\": [[-99.13...  006_091_20  Cuautémoc   \n",
              "99   {\"type\": \"MultiPoint\", \"coordinates\": [[-99.14...  003_052_18  Cuautémoc   \n",
              "145  {\"type\": \"MultiPoint\", \"coordinates\": [[-99.13...  001_012_11  Cuautémoc   \n",
              "83   {\"type\": \"MultiPoint\", \"coordinates\": [[-99.14...  002_018_03  Cuautémoc   \n",
              "\n",
              "    perimetro   tipo                   nom_id    estratificado  \n",
              "164         B  Hotel             Dos Naciones  Cuautémoc,Hotel  \n",
              "142         A  Hotel                    Ambar  Cuautémoc,Hotel  \n",
              "27          B  Hotel  Hilton Centro Histórico  Cuautémoc,Hotel  \n",
              "168         B  Hotel              One Alameda  Cuautémoc,Hotel  \n",
              "113         A  Hotel              San Antonio  Cuautémoc,Hotel  \n",
              "..        ...    ...                      ...              ...  \n",
              "66          A  Hotel                  Coliseo  Cuautémoc,Hotel  \n",
              "193         A  Hotel                   Regina  Cuautémoc,Hotel  \n",
              "99          B  Hotel                 Drigales  Cuautémoc,Hotel  \n",
              "145         A  Hotel                    Rioja  Cuautémoc,Hotel  \n",
              "83          B  Hotel            San Francisco  Cuautémoc,Hotel  \n",
              "\n",
              "[115 rows x 9 columns]"
            ],
            "text/html": [
              "\n",
              "  <div id=\"df-b9e104d5-b34d-4e77-b382-a12aa2a5000a\">\n",
              "    <div class=\"colab-df-container\">\n",
              "      <div>\n",
              "<style scoped>\n",
              "    .dataframe tbody tr th:only-of-type {\n",
              "        vertical-align: middle;\n",
              "    }\n",
              "\n",
              "    .dataframe tbody tr th {\n",
              "        vertical-align: top;\n",
              "    }\n",
              "\n",
              "    .dataframe thead th {\n",
              "        text-align: right;\n",
              "    }\n",
              "</style>\n",
              "<table border=\"1\" class=\"dataframe\">\n",
              "  <thead>\n",
              "    <tr style=\"text-align: right;\">\n",
              "      <th></th>\n",
              "      <th>id</th>\n",
              "      <th>geo_point_2d</th>\n",
              "      <th>geo_shape</th>\n",
              "      <th>clave_cat</th>\n",
              "      <th>delegacion</th>\n",
              "      <th>perimetro</th>\n",
              "      <th>tipo</th>\n",
              "      <th>nom_id</th>\n",
              "      <th>estratificado</th>\n",
              "    </tr>\n",
              "  </thead>\n",
              "  <tbody>\n",
              "    <tr>\n",
              "      <th>164</th>\n",
              "      <td>164</td>\n",
              "      <td>19.4388741511,-99.1413308257</td>\n",
              "      <td>{\"type\": \"MultiPoint\", \"coordinates\": [[-99.14...</td>\n",
              "      <td>003_113_03</td>\n",
              "      <td>Cuautémoc</td>\n",
              "      <td>B</td>\n",
              "      <td>Hotel</td>\n",
              "      <td>Dos Naciones</td>\n",
              "      <td>Cuautémoc,Hotel</td>\n",
              "    </tr>\n",
              "    <tr>\n",
              "      <th>142</th>\n",
              "      <td>142</td>\n",
              "      <td>19.4263681354,-99.1327278126</td>\n",
              "      <td>{\"type\": \"MultiPoint\", \"coordinates\": [[-99.13...</td>\n",
              "      <td>006_127_14</td>\n",
              "      <td>Cuautémoc</td>\n",
              "      <td>A</td>\n",
              "      <td>Hotel</td>\n",
              "      <td>Ambar</td>\n",
              "      <td>Cuautémoc,Hotel</td>\n",
              "    </tr>\n",
              "    <tr>\n",
              "      <th>27</th>\n",
              "      <td>27</td>\n",
              "      <td>19.4348360773,-99.1463945583</td>\n",
              "      <td>{\"type\": \"MultiPoint\", \"coordinates\": [[-99.14...</td>\n",
              "      <td>002_016_01</td>\n",
              "      <td>Cuautémoc</td>\n",
              "      <td>B</td>\n",
              "      <td>Hotel</td>\n",
              "      <td>Hilton Centro Histórico</td>\n",
              "      <td>Cuautémoc,Hotel</td>\n",
              "    </tr>\n",
              "    <tr>\n",
              "      <th>168</th>\n",
              "      <td>168</td>\n",
              "      <td>19.4349726565,-99.147766133</td>\n",
              "      <td>{\"type\": \"MultiPoint\", \"coordinates\": [[-99.14...</td>\n",
              "      <td>002_014_23</td>\n",
              "      <td>Cuautémoc</td>\n",
              "      <td>B</td>\n",
              "      <td>Hotel</td>\n",
              "      <td>One Alameda</td>\n",
              "      <td>Cuautémoc,Hotel</td>\n",
              "    </tr>\n",
              "    <tr>\n",
              "      <th>113</th>\n",
              "      <td>113</td>\n",
              "      <td>19.43374405,-99.13550135</td>\n",
              "      <td>{\"type\": \"MultiPoint\", \"coordinates\": [[-99.13...</td>\n",
              "      <td>001_012_13</td>\n",
              "      <td>Cuautémoc</td>\n",
              "      <td>A</td>\n",
              "      <td>Hotel</td>\n",
              "      <td>San Antonio</td>\n",
              "      <td>Cuautémoc,Hotel</td>\n",
              "    </tr>\n",
              "    <tr>\n",
              "      <th>...</th>\n",
              "      <td>...</td>\n",
              "      <td>...</td>\n",
              "      <td>...</td>\n",
              "      <td>...</td>\n",
              "      <td>...</td>\n",
              "      <td>...</td>\n",
              "      <td>...</td>\n",
              "      <td>...</td>\n",
              "      <td>...</td>\n",
              "    </tr>\n",
              "    <tr>\n",
              "      <th>66</th>\n",
              "      <td>66</td>\n",
              "      <td>19.4331350004,-99.1382989213</td>\n",
              "      <td>{\"type\": \"MultiPoint\", \"coordinates\": [[-99.13...</td>\n",
              "      <td>001_021_14</td>\n",
              "      <td>Cuautémoc</td>\n",
              "      <td>A</td>\n",
              "      <td>Hotel</td>\n",
              "      <td>Coliseo</td>\n",
              "      <td>Cuautémoc,Hotel</td>\n",
              "    </tr>\n",
              "    <tr>\n",
              "      <th>193</th>\n",
              "      <td>193</td>\n",
              "      <td>19.4269448376,-99.1305051483</td>\n",
              "      <td>{\"type\": \"MultiPoint\", \"coordinates\": [[-99.13...</td>\n",
              "      <td>006_091_20</td>\n",
              "      <td>Cuautémoc</td>\n",
              "      <td>A</td>\n",
              "      <td>Hotel</td>\n",
              "      <td>Regina</td>\n",
              "      <td>Cuautémoc,Hotel</td>\n",
              "    </tr>\n",
              "    <tr>\n",
              "      <th>99</th>\n",
              "      <td>99</td>\n",
              "      <td>19.4438918423,-99.1402516182</td>\n",
              "      <td>{\"type\": \"MultiPoint\", \"coordinates\": [[-99.14...</td>\n",
              "      <td>003_052_18</td>\n",
              "      <td>Cuautémoc</td>\n",
              "      <td>B</td>\n",
              "      <td>Hotel</td>\n",
              "      <td>Drigales</td>\n",
              "      <td>Cuautémoc,Hotel</td>\n",
              "    </tr>\n",
              "    <tr>\n",
              "      <th>145</th>\n",
              "      <td>145</td>\n",
              "      <td>19.4340221684,-99.1358187396</td>\n",
              "      <td>{\"type\": \"MultiPoint\", \"coordinates\": [[-99.13...</td>\n",
              "      <td>001_012_11</td>\n",
              "      <td>Cuautémoc</td>\n",
              "      <td>A</td>\n",
              "      <td>Hotel</td>\n",
              "      <td>Rioja</td>\n",
              "      <td>Cuautémoc,Hotel</td>\n",
              "    </tr>\n",
              "    <tr>\n",
              "      <th>83</th>\n",
              "      <td>83</td>\n",
              "      <td>19.4342251093,-99.1449434443</td>\n",
              "      <td>{\"type\": \"MultiPoint\", \"coordinates\": [[-99.14...</td>\n",
              "      <td>002_018_03</td>\n",
              "      <td>Cuautémoc</td>\n",
              "      <td>B</td>\n",
              "      <td>Hotel</td>\n",
              "      <td>San Francisco</td>\n",
              "      <td>Cuautémoc,Hotel</td>\n",
              "    </tr>\n",
              "  </tbody>\n",
              "</table>\n",
              "<p>115 rows × 9 columns</p>\n",
              "</div>\n",
              "      <button class=\"colab-df-convert\" onclick=\"convertToInteractive('df-b9e104d5-b34d-4e77-b382-a12aa2a5000a')\"\n",
              "              title=\"Convert this dataframe to an interactive table.\"\n",
              "              style=\"display:none;\">\n",
              "        \n",
              "  <svg xmlns=\"http://www.w3.org/2000/svg\" height=\"24px\"viewBox=\"0 0 24 24\"\n",
              "       width=\"24px\">\n",
              "    <path d=\"M0 0h24v24H0V0z\" fill=\"none\"/>\n",
              "    <path d=\"M18.56 5.44l.94 2.06.94-2.06 2.06-.94-2.06-.94-.94-2.06-.94 2.06-2.06.94zm-11 1L8.5 8.5l.94-2.06 2.06-.94-2.06-.94L8.5 2.5l-.94 2.06-2.06.94zm10 10l.94 2.06.94-2.06 2.06-.94-2.06-.94-.94-2.06-.94 2.06-2.06.94z\"/><path d=\"M17.41 7.96l-1.37-1.37c-.4-.4-.92-.59-1.43-.59-.52 0-1.04.2-1.43.59L10.3 9.45l-7.72 7.72c-.78.78-.78 2.05 0 2.83L4 21.41c.39.39.9.59 1.41.59.51 0 1.02-.2 1.41-.59l7.78-7.78 2.81-2.81c.8-.78.8-2.07 0-2.86zM5.41 20L4 18.59l7.72-7.72 1.47 1.35L5.41 20z\"/>\n",
              "  </svg>\n",
              "      </button>\n",
              "      \n",
              "  <style>\n",
              "    .colab-df-container {\n",
              "      display:flex;\n",
              "      flex-wrap:wrap;\n",
              "      gap: 12px;\n",
              "    }\n",
              "\n",
              "    .colab-df-convert {\n",
              "      background-color: #E8F0FE;\n",
              "      border: none;\n",
              "      border-radius: 50%;\n",
              "      cursor: pointer;\n",
              "      display: none;\n",
              "      fill: #1967D2;\n",
              "      height: 32px;\n",
              "      padding: 0 0 0 0;\n",
              "      width: 32px;\n",
              "    }\n",
              "\n",
              "    .colab-df-convert:hover {\n",
              "      background-color: #E2EBFA;\n",
              "      box-shadow: 0px 1px 2px rgba(60, 64, 67, 0.3), 0px 1px 3px 1px rgba(60, 64, 67, 0.15);\n",
              "      fill: #174EA6;\n",
              "    }\n",
              "\n",
              "    [theme=dark] .colab-df-convert {\n",
              "      background-color: #3B4455;\n",
              "      fill: #D2E3FC;\n",
              "    }\n",
              "\n",
              "    [theme=dark] .colab-df-convert:hover {\n",
              "      background-color: #434B5C;\n",
              "      box-shadow: 0px 1px 3px 1px rgba(0, 0, 0, 0.15);\n",
              "      filter: drop-shadow(0px 1px 2px rgba(0, 0, 0, 0.3));\n",
              "      fill: #FFFFFF;\n",
              "    }\n",
              "  </style>\n",
              "\n",
              "      <script>\n",
              "        const buttonEl =\n",
              "          document.querySelector('#df-b9e104d5-b34d-4e77-b382-a12aa2a5000a button.colab-df-convert');\n",
              "        buttonEl.style.display =\n",
              "          google.colab.kernel.accessAllowed ? 'block' : 'none';\n",
              "\n",
              "        async function convertToInteractive(key) {\n",
              "          const element = document.querySelector('#df-b9e104d5-b34d-4e77-b382-a12aa2a5000a');\n",
              "          const dataTable =\n",
              "            await google.colab.kernel.invokeFunction('convertToInteractive',\n",
              "                                                     [key], {});\n",
              "          if (!dataTable) return;\n",
              "\n",
              "          const docLinkHtml = 'Like what you see? Visit the ' +\n",
              "            '<a target=\"_blank\" href=https://colab.research.google.com/notebooks/data_table.ipynb>data table notebook</a>'\n",
              "            + ' to learn more about interactive tables.';\n",
              "          element.innerHTML = '';\n",
              "          dataTable['output_type'] = 'display_data';\n",
              "          await google.colab.output.renderOutput(dataTable, element);\n",
              "          const docLink = document.createElement('div');\n",
              "          docLink.innerHTML = docLinkHtml;\n",
              "          element.appendChild(docLink);\n",
              "        }\n",
              "      </script>\n",
              "    </div>\n",
              "  </div>\n",
              "  "
            ]
          },
          "metadata": {},
          "execution_count": 24
        }
      ]
    },
    {
      "cell_type": "code",
      "source": [
        "#Verificamos que las porporciones sean las Solicitadas\n",
        "(df_estratificacion['estratificado'].value_counts()/len(df_estratificacion)).sort_values(ascending=False)"
      ],
      "metadata": {
        "colab": {
          "base_uri": "https://localhost:8080/"
        },
        "id": "98VB5gt3NXyb",
        "outputId": "210e14a0-9a0a-4095-e077-15e32c8cebdb"
      },
      "execution_count": 27,
      "outputs": [
        {
          "output_type": "execute_result",
          "data": {
            "text/plain": [
              "Cuautémoc,Hotel                0.5\n",
              "Cuautémoc,Museo                0.2\n",
              "Venustiano Carranza,Hotel      0.1\n",
              "Cuauhtémoc,Mercado             0.1\n",
              "Venustiano Carranza,Mercado    0.1\n",
              "Name: estratificado, dtype: float64"
            ]
          },
          "metadata": {},
          "execution_count": 27
        }
      ]
    },
    {
      "cell_type": "markdown",
      "source": [
        "# Medidas de Basicas de Estadistica Descriptiva\n",
        "<img src=\"https://i.ibb.co/182MsZH/Estadistica.png\">\n",
        "\n",
        "En Python usamos el atributo **ddof** para indicar si el calculo es **Poblacional** o **Muestral** Donde: \n",
        "\n",
        "1. `df.std(ddof=0)` y `df.var(ddof=0)` para poblacional\n",
        "2. `df.std(ddof=1)` y `df.var(ddof=1)` para muestral, sin embargo es la opcion por default.\n",
        "\n",
        "```python\n",
        "#Documentacion en Pandas\n",
        "DataFrame.std(axis=None, skipna=True, level=None, ddof=1, numeric_only=None, **kwargs)\n",
        "```\n"
      ],
      "metadata": {
        "id": "61fMOnDb3PhO"
      }
    },
    {
      "cell_type": "code",
      "source": [
        "import matplotlib.pyplot as plt\n",
        "import seaborn as sns\n",
        "url = 'https://archive.ics.uci.edu/ml/machine-learning-databases/iris/iris.data'\n",
        "names = ['sepal-length','sepal-width','petal-length','petal-width','class']\n",
        "iris = pd.read_csv(url,names = names)\n",
        "iris.std(ddof=0)"
      ],
      "metadata": {
        "colab": {
          "base_uri": "https://localhost:8080/"
        },
        "id": "hCD4yOep7TI2",
        "outputId": "3047c1c8-c81c-42ed-ce9f-9509acb80798"
      },
      "execution_count": null,
      "outputs": [
        {
          "output_type": "stream",
          "name": "stderr",
          "text": [
            "/usr/local/lib/python3.7/dist-packages/ipykernel_launcher.py:6: FutureWarning: Dropping of nuisance columns in DataFrame reductions (with 'numeric_only=None') is deprecated; in a future version this will raise TypeError.  Select only valid columns before calling the reduction.\n",
            "  \n"
          ]
        },
        {
          "output_type": "execute_result",
          "data": {
            "text/plain": [
              "sepal-length    0.825301\n",
              "sepal-width     0.432147\n",
              "petal-length    1.758529\n",
              "petal-width     0.760613\n",
              "dtype: float64"
            ]
          },
          "metadata": {},
          "execution_count": 12
        }
      ]
    },
    {
      "cell_type": "markdown",
      "source": [
        "### Intervalos de Confianza **IC**\n",
        "Un par o varios pares de números entre los cuales se estima que estara cierto valor desconocido respecto de un parámetro poblacional con un determinado nivel de confianza. Son simetricos respecto a la media. Los rangos de certidumbre se explican a traves la cantidad de los datos evaluados (68%, 95%, 99,7%)  de Significancia.\n",
        "\n",
        "### Ejemplo Calculo de Intervalo de Confianza\n",
        "\n",
        "Cual es el Intervalo de Confianza al 80% para una distribucion normal de $\\mu$ = 28 y $\\sigma$ = 4\n",
        "1. Si la confianza debe ser del 80% y la distribucion es simetrica entonces hay un 10% a cada lado $-Z_{\\alpha/2}$, $Z_{\\alpha/2}$. Sumamos $-Z_{\\alpha/2}$ + 80% = 90%. Buscamos en la tabla $Z_{score}$ que valores corresponden al $\\cong$ 90%. En este caso es -1.28, 1.28.\n",
        "\n",
        "2. La formula para calcular $-x_{1},x_{2}$ es $Z = \\frac{x-\\mu}{\\sigma}$. Si despejamos con $\\mu$ = 28 y $\\sigma$ = 4 obtendremos $x_{1}=22.88$ y $x_{2}=33.12$. Listo, dependiendo de las unidades del ejercicio se podra determina el $min$ y $max$ respectivamente. $IC_{80} = (22.88;33.12)$\n",
        "\n",
        "## Conclusión\n",
        "1. Definimos en que intevalo de confianza queremos trabajar. \n",
        "2. Calculamos el Lim Superior $\\to \\frac{100-IC}{2} + IC$, Luego buscamos ese Lim Superior en la tabla $Z_{TableScore}$ y finalmente despejamos $Z*σ + \\mu = X_{1,2}$. Así se traduce de porcentajes a las unidades en las que se esta trabajando. \n",
        "\n",
        "\n",
        "\n"
      ],
      "metadata": {
        "id": "C0caYVUzC_ow"
      }
    },
    {
      "cell_type": "code",
      "source": [
        "# Cálculo de intervalo de confianza en Python\n",
        "#Interval(confidence, df, loc=0, scale=1): Confidence interval with equal areas around the median.\n",
        "import scipy.stats as st\n",
        "tabla = 'Corresponde a la Distribucion que estamos analizando'\n",
        "st.t.interval(alpha = 0.95,df=len(tabla)-1,loc=np.mean(tabla),scale=st.sem(tabla))"
      ],
      "metadata": {
        "id": "383CKQJpEc5I"
      },
      "execution_count": null,
      "outputs": []
    },
    {
      "cell_type": "markdown",
      "source": [
        " # Prueba de Hipótesis\n",
        "\n",
        " la prueba de hipótesis o prueba de significación ayuda a juzgar si exite una diferencia significativa entre el tamaño de la muestra y el parámetro general. \n",
        "\n",
        "**Pasos**\n",
        "\n",
        "1. Establecer una hipotesis nula **H0** y una alternativa **H1**\n",
        "2. Seleccionar el nivel de significancia. Consiste definir el CI(Confidence Interval) `95%,80%,68%` que se considera adecuado según las reglas del negocio o invetigación. Nivel de Significancia $α$ es sinonimo del limite inferior para un **CI**. Si CI $\\to$ 95% entonces $α \\to$ 2,5% o 0,025. Si CI $\\to$ 90% entonces $α \\to$ 5% o 0,05. \n",
        "\n",
        "\n",
        "> **P-value** Es un numero tipo outliers que cuando $P_{value} < \\alpha \\to H_{0}$ es Falsa y $H_{1}$ es verdadera. Si $P_{value} >= \\alpha \\to$ tanto $H_{0}$ como $H_{1}$ no se pueden descartar. \n",
        "\n",
        "> **H0** Hipotesís probablemente Falsa: las ventas de cerveza son las mismas en cualquier época del año. la gente vive lo mismo en todos los países.\n",
        "> **H1** Hipotesís Alterna & Probablemente Verdadera : En verano se vende más cerveza. la gente vive más en países nórdicos.\n",
        "seleccionar el nivel de significancia. con qué certidumbre queremos encontrar estas diferencias entre las distribuciones.\n",
        "\n",
        "# Tipos de Pruebas de Hipótesis\n",
        "\n",
        "1. **Distribución T Studen**: Se usa para estimar una media poblacional normalmente distribuida a partir de una muestra pequña qu sigue una distribución normal y de la que desconocemos la desviación estandar. $t=\\frac{(x_{1}-X_{2})}{\\sqrt{\\frac{{s_{1}}^{2}}{n_{1}} + \\frac{{s_{2}^{2}}}{n_{2}}}}$. La media $\\mu$ es conocida pero $\\sigma$ no es conocida.\n",
        "\n",
        "2. **Coeficiente de Pearson** Se usa para medir la dependecia lineal o correlación entre dos variables aleatorias cuantitativas. Donde la fuerza de la relación se puede categorizar como `Small, Medium, Large` la conrrelación puede ser `Positiva` o `Negativa`.\n",
        "\n",
        "3. Análisis de Varianza **ANOVA** Se usa para comparar las varianzas entre las medias o el promedio de diferentes grupos, este modelo es un poco mas coplejo que los anteriores. \n",
        "\n",
        "4. Tipos de pruebas de hipótesis con Pandas.\n",
        "\n",
        "- **T-Test** Numeric vs Categorical: `sns.displot()` & `stats.ttest_ind()`\n",
        "- **ANOVA Test** Numeric vs Categorical: `sns.boxplot()` & `stats.f_oneway()`\n",
        "- **Pearson** Numeric vs Numeric\n",
        "- **Chi-Square Test** Categorical vs categorical: `sns.barplot()` & `stats.chi2_contingency()`\n",
        "\n",
        "# Tipos de errores\n",
        "\n",
        "Consiste en no identificar correctamente los falsos positivos y falsos negativos respectivamente en $H_{0}, H_{1}$\n",
        "\n",
        "![tipos_errores](https://i.ibb.co/0VxmrXM/inferencial.png)\n",
        "\n",
        "### Ejemplo\n",
        "\n",
        "Se tiene dos medicamentos y se concluye que $H_{0} \\to \\mu_{1} = \\mu_{2}$ ambos tienen la misma eficacia o $H_{1} \\to \\mu_{1} \\neq \\mu_{2}$ tienen diferente eficacia. \n",
        "\n",
        "  - Error Tipo I: Concluir que ambos medicamentos con diferentes cuando no los son. \n",
        "  - Error Tipo II: Concluir que no hay diferencia significatica entre ambos medicamentos cuando si la existe una diferencia."
      ],
      "metadata": {
        "id": "aWeOMNV3b1PY"
      }
    },
    {
      "cell_type": "code",
      "source": [
        "import pandas as pd\n",
        "import numpy as np\n",
        "import seaborn as sns\n",
        "import scipy.stats as st\n",
        "from scipy.stats import f_oneway\n",
        "from scipy.stats import ttest_ind"
      ],
      "metadata": {
        "id": "iSd6fwgQVoVz"
      },
      "execution_count": 4,
      "outputs": []
    },
    {
      "cell_type": "code",
      "source": [
        "iris = sns.load_dataset(\"iris\")\n",
        "iris.head()"
      ],
      "metadata": {
        "colab": {
          "base_uri": "https://localhost:8080/",
          "height": 206
        },
        "id": "sDkx4BSAWK8I",
        "outputId": "6b252c90-7a88-4bd5-caa7-99d8593f61f9"
      },
      "execution_count": 5,
      "outputs": [
        {
          "output_type": "execute_result",
          "data": {
            "text/plain": [
              "   sepal_length  sepal_width  petal_length  petal_width species\n",
              "0           5.1          3.5           1.4          0.2  setosa\n",
              "1           4.9          3.0           1.4          0.2  setosa\n",
              "2           4.7          3.2           1.3          0.2  setosa\n",
              "3           4.6          3.1           1.5          0.2  setosa\n",
              "4           5.0          3.6           1.4          0.2  setosa"
            ],
            "text/html": [
              "\n",
              "  <div id=\"df-d86e8e9a-fd3f-479b-babe-99ed5f691775\">\n",
              "    <div class=\"colab-df-container\">\n",
              "      <div>\n",
              "<style scoped>\n",
              "    .dataframe tbody tr th:only-of-type {\n",
              "        vertical-align: middle;\n",
              "    }\n",
              "\n",
              "    .dataframe tbody tr th {\n",
              "        vertical-align: top;\n",
              "    }\n",
              "\n",
              "    .dataframe thead th {\n",
              "        text-align: right;\n",
              "    }\n",
              "</style>\n",
              "<table border=\"1\" class=\"dataframe\">\n",
              "  <thead>\n",
              "    <tr style=\"text-align: right;\">\n",
              "      <th></th>\n",
              "      <th>sepal_length</th>\n",
              "      <th>sepal_width</th>\n",
              "      <th>petal_length</th>\n",
              "      <th>petal_width</th>\n",
              "      <th>species</th>\n",
              "    </tr>\n",
              "  </thead>\n",
              "  <tbody>\n",
              "    <tr>\n",
              "      <th>0</th>\n",
              "      <td>5.1</td>\n",
              "      <td>3.5</td>\n",
              "      <td>1.4</td>\n",
              "      <td>0.2</td>\n",
              "      <td>setosa</td>\n",
              "    </tr>\n",
              "    <tr>\n",
              "      <th>1</th>\n",
              "      <td>4.9</td>\n",
              "      <td>3.0</td>\n",
              "      <td>1.4</td>\n",
              "      <td>0.2</td>\n",
              "      <td>setosa</td>\n",
              "    </tr>\n",
              "    <tr>\n",
              "      <th>2</th>\n",
              "      <td>4.7</td>\n",
              "      <td>3.2</td>\n",
              "      <td>1.3</td>\n",
              "      <td>0.2</td>\n",
              "      <td>setosa</td>\n",
              "    </tr>\n",
              "    <tr>\n",
              "      <th>3</th>\n",
              "      <td>4.6</td>\n",
              "      <td>3.1</td>\n",
              "      <td>1.5</td>\n",
              "      <td>0.2</td>\n",
              "      <td>setosa</td>\n",
              "    </tr>\n",
              "    <tr>\n",
              "      <th>4</th>\n",
              "      <td>5.0</td>\n",
              "      <td>3.6</td>\n",
              "      <td>1.4</td>\n",
              "      <td>0.2</td>\n",
              "      <td>setosa</td>\n",
              "    </tr>\n",
              "  </tbody>\n",
              "</table>\n",
              "</div>\n",
              "      <button class=\"colab-df-convert\" onclick=\"convertToInteractive('df-d86e8e9a-fd3f-479b-babe-99ed5f691775')\"\n",
              "              title=\"Convert this dataframe to an interactive table.\"\n",
              "              style=\"display:none;\">\n",
              "        \n",
              "  <svg xmlns=\"http://www.w3.org/2000/svg\" height=\"24px\"viewBox=\"0 0 24 24\"\n",
              "       width=\"24px\">\n",
              "    <path d=\"M0 0h24v24H0V0z\" fill=\"none\"/>\n",
              "    <path d=\"M18.56 5.44l.94 2.06.94-2.06 2.06-.94-2.06-.94-.94-2.06-.94 2.06-2.06.94zm-11 1L8.5 8.5l.94-2.06 2.06-.94-2.06-.94L8.5 2.5l-.94 2.06-2.06.94zm10 10l.94 2.06.94-2.06 2.06-.94-2.06-.94-.94-2.06-.94 2.06-2.06.94z\"/><path d=\"M17.41 7.96l-1.37-1.37c-.4-.4-.92-.59-1.43-.59-.52 0-1.04.2-1.43.59L10.3 9.45l-7.72 7.72c-.78.78-.78 2.05 0 2.83L4 21.41c.39.39.9.59 1.41.59.51 0 1.02-.2 1.41-.59l7.78-7.78 2.81-2.81c.8-.78.8-2.07 0-2.86zM5.41 20L4 18.59l7.72-7.72 1.47 1.35L5.41 20z\"/>\n",
              "  </svg>\n",
              "      </button>\n",
              "      \n",
              "  <style>\n",
              "    .colab-df-container {\n",
              "      display:flex;\n",
              "      flex-wrap:wrap;\n",
              "      gap: 12px;\n",
              "    }\n",
              "\n",
              "    .colab-df-convert {\n",
              "      background-color: #E8F0FE;\n",
              "      border: none;\n",
              "      border-radius: 50%;\n",
              "      cursor: pointer;\n",
              "      display: none;\n",
              "      fill: #1967D2;\n",
              "      height: 32px;\n",
              "      padding: 0 0 0 0;\n",
              "      width: 32px;\n",
              "    }\n",
              "\n",
              "    .colab-df-convert:hover {\n",
              "      background-color: #E2EBFA;\n",
              "      box-shadow: 0px 1px 2px rgba(60, 64, 67, 0.3), 0px 1px 3px 1px rgba(60, 64, 67, 0.15);\n",
              "      fill: #174EA6;\n",
              "    }\n",
              "\n",
              "    [theme=dark] .colab-df-convert {\n",
              "      background-color: #3B4455;\n",
              "      fill: #D2E3FC;\n",
              "    }\n",
              "\n",
              "    [theme=dark] .colab-df-convert:hover {\n",
              "      background-color: #434B5C;\n",
              "      box-shadow: 0px 1px 3px 1px rgba(0, 0, 0, 0.15);\n",
              "      filter: drop-shadow(0px 1px 2px rgba(0, 0, 0, 0.3));\n",
              "      fill: #FFFFFF;\n",
              "    }\n",
              "  </style>\n",
              "\n",
              "      <script>\n",
              "        const buttonEl =\n",
              "          document.querySelector('#df-d86e8e9a-fd3f-479b-babe-99ed5f691775 button.colab-df-convert');\n",
              "        buttonEl.style.display =\n",
              "          google.colab.kernel.accessAllowed ? 'block' : 'none';\n",
              "\n",
              "        async function convertToInteractive(key) {\n",
              "          const element = document.querySelector('#df-d86e8e9a-fd3f-479b-babe-99ed5f691775');\n",
              "          const dataTable =\n",
              "            await google.colab.kernel.invokeFunction('convertToInteractive',\n",
              "                                                     [key], {});\n",
              "          if (!dataTable) return;\n",
              "\n",
              "          const docLinkHtml = 'Like what you see? Visit the ' +\n",
              "            '<a target=\"_blank\" href=https://colab.research.google.com/notebooks/data_table.ipynb>data table notebook</a>'\n",
              "            + ' to learn more about interactive tables.';\n",
              "          element.innerHTML = '';\n",
              "          dataTable['output_type'] = 'display_data';\n",
              "          await google.colab.output.renderOutput(dataTable, element);\n",
              "          const docLink = document.createElement('div');\n",
              "          docLink.innerHTML = docLinkHtml;\n",
              "          element.appendChild(docLink);\n",
              "        }\n",
              "      </script>\n",
              "    </div>\n",
              "  </div>\n",
              "  "
            ]
          },
          "metadata": {},
          "execution_count": 5
        }
      ]
    },
    {
      "cell_type": "markdown",
      "source": [
        "#Distribución T de [Student](https://www.youtube.com/watch?v=RA9mPkbrZqU)\n",
        "\n",
        "SE $\\to$ Standar Error\n",
        "\n",
        "![t_stutent](https://static.platzi.com/media/public/uploads/formula3_69483c43-a3f4-4ff0-a9d5-726b4b889f38.png)"
      ],
      "metadata": {
        "id": "lX8jyNJrZYXu"
      }
    },
    {
      "cell_type": "code",
      "source": [
        "#se_length = iris['sepal_length'].std/np.sqrt(10)\n",
        "se_with = iris['sepal_width'].std()/np.sqrt(10)\n",
        "se_length = iris['sepal_length'].std()/np.sqrt(10 )"
      ],
      "metadata": {
        "id": "N0INAeHlZVjF"
      },
      "execution_count": 8,
      "outputs": []
    },
    {
      "cell_type": "markdown",
      "source": [
        "\n",
        "SED $\\to$ Standar Error Deviation\n",
        "\n",
        "![t_stutent](https://static.platzi.com/media/public/uploads/formula4_267ebf49-d532-400e-b2a3-503633485b20.png)"
      ],
      "metadata": {
        "id": "ubS-XmV-bKuE"
      }
    },
    {
      "cell_type": "code",
      "source": [
        "sed = np.sqrt(pow(se_length,2)+pow(se_with,2))"
      ],
      "metadata": {
        "id": "0V9ySH57bbOZ"
      },
      "execution_count": 9,
      "outputs": []
    },
    {
      "cell_type": "markdown",
      "source": [
        "Calcular T Student\n",
        "\n",
        "\n",
        "![f2](https://static.platzi.com/media/public/uploads/formula6_c18049f7-5de4-401e-bf12-0c39cb24c5a9.png)"
      ],
      "metadata": {
        "id": "nHryK0jIcQhA"
      }
    },
    {
      "cell_type": "code",
      "source": [
        "#Calucamos t student que representaria el Nivel de Significancia > 0.05\n",
        "t_stat = (iris['sepal_length'].mean()-iris['sepal_width'].mean())/sed\n",
        "t_stat"
      ],
      "metadata": {
        "colab": {
          "base_uri": "https://localhost:8080/"
        },
        "id": "9JYZTQlmcTkd",
        "outputId": "ce74c033-b2ca-4a81-9f95-f16985c051f2"
      },
      "execution_count": 15,
      "outputs": [
        {
          "output_type": "execute_result",
          "data": {
            "text/plain": [
              "9.414779428410263"
            ]
          },
          "metadata": {},
          "execution_count": 15
        }
      ]
    },
    {
      "cell_type": "code",
      "source": [
        "# Evaluamos ambas distribuciónes y calculamos p-value\n",
        "#Dado que pvalue=7.027919392009369e-112 < 9.414779428410263 -> H0 queda rechazada.\n",
        "p_value = ttest_ind(iris['sepal_length'],iris['sepal_width'])\n",
        "p_value"
      ],
      "metadata": {
        "colab": {
          "base_uri": "https://localhost:8080/"
        },
        "id": "hNv4RuvJdsIu",
        "outputId": "b95ffa9d-c9a5-416a-acfe-e45bce3c1bdd"
      },
      "execution_count": 17,
      "outputs": [
        {
          "output_type": "execute_result",
          "data": {
            "text/plain": [
              "Ttest_indResult(statistic=36.463283934449116, pvalue=7.027919392009369e-112)"
            ]
          },
          "metadata": {},
          "execution_count": 17
        }
      ]
    },
    {
      "cell_type": "markdown",
      "source": [
        "# Pearson y ANOVA"
      ],
      "metadata": {
        "id": "qbeZeFDZgmoa"
      }
    },
    {
      "cell_type": "code",
      "source": [
        "# Correlación- Weak\n",
        "iris['sepal_length'].corr(iris['sepal_width'])"
      ],
      "metadata": {
        "colab": {
          "base_uri": "https://localhost:8080/"
        },
        "id": "vuwsSyuygiU3",
        "outputId": "b0d509b8-fba9-4b6b-eddd-f0d854db01a1"
      },
      "execution_count": 20,
      "outputs": [
        {
          "output_type": "execute_result",
          "data": {
            "text/plain": [
              "-0.11756978413300208"
            ]
          },
          "metadata": {},
          "execution_count": 20
        }
      ]
    },
    {
      "cell_type": "code",
      "source": [
        "# Pearson R - Weak\n",
        "st.pearsonr(iris['sepal_length'],iris['sepal_width'])"
      ],
      "metadata": {
        "colab": {
          "base_uri": "https://localhost:8080/"
        },
        "id": "bCBRTvV4g_sO",
        "outputId": "a3e1a8c5-0846-42ee-9103-331f6423ccc0"
      },
      "execution_count": 23,
      "outputs": [
        {
          "output_type": "execute_result",
          "data": {
            "text/plain": [
              "(-0.11756978413300206, 0.15189826071144766)"
            ]
          },
          "metadata": {},
          "execution_count": 23
        }
      ]
    },
    {
      "cell_type": "code",
      "source": [
        "# ANOVA\n",
        "# Ho -> Las distribuciónes son similares H1 -> Son diferentes\n",
        "# Dado que p-value < 0.05 -> H0 es descartada.\n",
        "f_oneway(iris['sepal_length'],iris['sepal_width'])"
      ],
      "metadata": {
        "colab": {
          "base_uri": "https://localhost:8080/"
        },
        "id": "jnUxBiIehON0",
        "outputId": "7ba79031-fe45-4fbc-dd26-635fddd13ba3"
      },
      "execution_count": 25,
      "outputs": [
        {
          "output_type": "execute_result",
          "data": {
            "text/plain": [
              "F_onewayResult(statistic=1329.571075284254, pvalue=7.027919392009998e-112)"
            ]
          },
          "metadata": {},
          "execution_count": 25
        }
      ]
    },
    {
      "cell_type": "markdown",
      "source": [
        "#Bootstrapping\n",
        "\n",
        "**¿Qué es y por qué usar bootstrapping?**\n",
        "Bootstrapping es un método de remuestreo con reemplazo.\n",
        "\n",
        "**¿Y qué es remuestreo con reemplazo?**\n",
        "Dado que partimos de una muestra, de esta muestra volvemos a obtener una muestra. O sea, una muestra de la muestra. Y decimos con reemplazo porque la muestra original, siempre mantiene todos sus elementos. Veamos un ejemplo:\n",
        "\n",
        "```py\n",
        "muestra_original = [1, 2, 3, 4, 5]\n",
        "\n",
        "bootstrap_1 = [1, 5, 2, 5, 4]\n",
        "bootstrap_2 = [5, 2, 1, 4, 4]\n",
        "```\n",
        "\n",
        "A los bootstraps los podemos obtener `N` veces. Por eso es un método que viene a ser muy versátil si usamos computadoras (Python).\n",
        "\n",
        "![bootstrapping](https://static.platzi.com/media/user_upload/1descarga-96bc0c7d-acae-4c34-b2a7-b36d9f6e3fa0.jpg)\n",
        "\n",
        "**¿Por qué usar bootstrapping?**\n",
        "Porque es un método muy versátil y tenemos acceso al poder de cómputo necesario para hacerlo.\n",
        "\n",
        "Como recordarás de clases anteriores de este curso, los métodos de t student y de Pearson asumen criterios de la población. Pero esto no siempre es así. No siempre podremos asumir ciertos parámetros y es aquí que bootstrapping se vuelve muy útil porque hace simulaciones de las muestras.\n",
        "\n",
        "Además, hoy en día es muy accesible la capacidad de cómputo para hacerlo (a menos que sea big data). Bootstrapping es un método que se desarrolló en los 80s, cuando la computación era muy limitada.\n",
        "\n",
        "Como recomendación, para hacer bootstrapping, asegúrate de tener al menos 25 registros y correr como mínimo 1000 simulaciones. 🚀\n"
      ],
      "metadata": {
        "id": "eSXhI01hiEQr"
      }
    },
    {
      "cell_type": "code",
      "source": [
        "import pandas as pd\n",
        "import numpy as np\n",
        "import random"
      ],
      "metadata": {
        "id": "Lnqyy-ugh1bX"
      },
      "execution_count": 26,
      "outputs": []
    },
    {
      "cell_type": "code",
      "source": [
        "#Generamos un Array de size=10.000 datos cuyo promedio es muy cercano a loc=34\n",
        "data = np.random.normal(loc = 34, size = 10000)\n",
        "data.mean()"
      ],
      "metadata": {
        "colab": {
          "base_uri": "https://localhost:8080/"
        },
        "id": "RjOq62R6jaki",
        "outputId": "8c0a05cd-d59d-4ed6-c6ce-9aa4ef3d878e"
      },
      "execution_count": 30,
      "outputs": [
        {
          "output_type": "execute_result",
          "data": {
            "text/plain": [
              "33.99683240897444"
            ]
          },
          "metadata": {},
          "execution_count": 30
        }
      ]
    },
    {
      "cell_type": "code",
      "source": [
        "#Creamos 40 muestras de los datos en grupos de 5 y las almacenamos en un  array.\n",
        "promedio = []\n",
        "for i in range(40):\n",
        "  muestra =random.sample(data.tolist(),5)\n",
        "  prom = np.mean(muestra)\n",
        "  promedio.append(prom)"
      ],
      "metadata": {
        "id": "6sx3640Rj7XW"
      },
      "execution_count": 32,
      "outputs": []
    },
    {
      "cell_type": "code",
      "source": [
        "#Este metodo ayuda a no sesgar los datos y a evitar o mitigar problemas como el over-fitting.\n",
        "np.mean(promedio)"
      ],
      "metadata": {
        "colab": {
          "base_uri": "https://localhost:8080/"
        },
        "id": "1-qTLIJAk1v9",
        "outputId": "662436d9-3063-4130-c147-e5218b777cef"
      },
      "execution_count": 34,
      "outputs": [
        {
          "output_type": "execute_result",
          "data": {
            "text/plain": [
              "33.95416345536228"
            ]
          },
          "metadata": {},
          "execution_count": 34
        }
      ]
    },
    {
      "cell_type": "markdown",
      "source": [
        "#[Validación Cruzada](https://platzi.com/clases/3140-estadistica-inferencial-python/49520-validacion-cruzada/)\n",
        "\n",
        "[Python Exercise Platzi](https://platzi.com/clases/3140-estadistica-inferencial-python/49521-validacion-cruzada-en-python/)\n",
        "\n",
        "Tecnica usada para evaluar los resultados de un análisis estadístico y garantizar que son independientes de la partición entre datos de entranamiento y prueba.\n",
        "\n",
        "1. División de los datos de forma aleatoria en K grupos de una tamño similar.\n",
        "2. Se usan K-1 grupos para entrenar el modelo y uno de ellos se usa para validarlo.\n",
        "3. El proceso se repite K veces usando un grupo distinto como validación en cada iteración. "
      ],
      "metadata": {
        "id": "rrF97cdzlcxG"
      }
    },
    {
      "cell_type": "markdown",
      "source": [],
      "metadata": {
        "id": "Ny-p2y85ncrB"
      }
    },
    {
      "cell_type": "code",
      "source": [],
      "metadata": {
        "id": "CBbCFdtAlVqS"
      },
      "execution_count": null,
      "outputs": []
    }
  ]
}